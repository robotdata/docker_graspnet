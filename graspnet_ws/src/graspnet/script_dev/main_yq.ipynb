{
 "cells": [
  {
   "cell_type": "code",
   "execution_count": 5,
   "metadata": {
    "scrolled": true
   },
   "outputs": [
    {
     "name": "stdout",
     "output_type": "stream",
     "text": [
      "['requirements.txt', 'README.md', '__pycache__', 'uniform_quaternions', 'demo', 'TRAINED_MODEL_LICENSE', 'shapenet_ids.txt', 'checkpoints', 'options', '.ipynb_checkpoints', 'eval.py', 'models', 'grasp_estimator.py', 'gripper_control_points', 'train.py', '.git', 'test.py', '.gitattributes', 'utils', 'gripper_models', 'renderer', 'data', 'LICENSE']\n"
     ]
    }
   ],
   "source": [
    "import os\n",
    "import sys\n",
    "os.chdir(\"/graspnet_ws/src/graspnet/pytorch_6dof-graspnet\")\n",
    "print(os.listdir())\n",
    "sys.path.append(\"/graspnet_ws/src/graspnet/pytorch_6dof-graspnet\")"
   ]
  },
  {
   "cell_type": "code",
   "execution_count": 6,
   "metadata": {},
   "outputs": [],
   "source": [
    "import numpy as np\n",
    "import argparse\n",
    "import glob\n",
    "import mayavi.mlab as mlab"
   ]
  },
  {
   "cell_type": "code",
   "execution_count": 7,
   "metadata": {},
   "outputs": [],
   "source": [
    "import grasp_estimator\n",
    "from utils.visualization_utils import *\n",
    "from utils import utils\n",
    "from data import DataLoader"
   ]
  },
  {
   "cell_type": "code",
   "execution_count": 8,
   "metadata": {},
   "outputs": [],
   "source": [
    "# parameters\n",
    "class Args(object):\n",
    "    def __init__(self):\n",
    "        pass\n",
    "args = Args()\n",
    "# args.grasp_sampler_folder = 'checkpoints/gan_pretrained/'\n",
    "args.grasp_sampler_folder = 'checkpoints/vae_pretrained'\n",
    "args.grasp_evaluator_folder = 'checkpoints/evaluator_pretrained/'\n",
    "# args.refinement_method = 'sampling'\n",
    "args.refinement_method = 'gradient'\n",
    "args.refine_steps = 10\n",
    "args.npy_folder = 'demo/data/'\n",
    "args.threshold = 0.8\n",
    "args.choose_fn = 'better_than_threshold'\n",
    "args.target_pc_size = 1024\n",
    "args.num_grasp_samples = 10\n",
    "args.generate_dense_grasps = False\n",
    "args.batch_size = 30\n",
    "args.train_data = False\n",
    "if args.train_data:\n",
    "    args.dataset_root_folder = ''"
   ]
  },
  {
   "cell_type": "code",
   "execution_count": 9,
   "metadata": {},
   "outputs": [],
   "source": [
    "def backproject(depth_cv, intrinsic_matrix, return_finite_depth=True, return_selection=False):\n",
    "    depth = depth_cv.astype(np.float32, copy=True)\n",
    "    \n",
    "    # get intrinsic matrix\n",
    "    K = intrinsic_matrix\n",
    "    Kinv = np.linalg.inv(K)\n",
    "    \n",
    "    #QIN compute the 3D points\n",
    "    width = depth.shape[1]\n",
    "    height = depth.shape[0]\n",
    "    \n",
    "    # construct the 2D points matrix\n",
    "    x, y = np.meshgrid(np.arange(width), np.arange(height))\n",
    "    ones = np.ones((height, width), dtype=np.float32)\n",
    "    x2d = np.stack((x,y,ones), axis=2).reshape(width*height,3)\n",
    "    \n",
    "    # backprojection\n",
    "    R = np.dot(Kinv, x2d.transpose())\n",
    "    \n",
    "    # compute the 3D points\n",
    "    X = np.multiply(np.tile(depth.reshape(1, width*height), (3,1)), R)\n",
    "    X = np.array(X).transpose()\n",
    "    if return_finite_depth:\n",
    "        selection = np.isfinite(X[:,0])\n",
    "        X = X[selection, :]\n",
    "    \n",
    "    if return_selection:\n",
    "        return X, selection\n",
    "    \n",
    "    return X\n",
    "    "
   ]
  },
  {
   "cell_type": "code",
   "execution_count": null,
   "metadata": {},
   "outputs": [],
   "source": []
  },
  {
   "cell_type": "code",
   "execution_count": 10,
   "metadata": {},
   "outputs": [
    {
     "name": "stdout",
     "output_type": "stream",
     "text": [
      "loading the model from ./checkpoints/evaluator_pretrained/latest_net.pth\n",
      "loading the model from ./checkpoints/vae_pretrained/latest_net.pth\n"
     ]
    }
   ],
   "source": [
    "# processing\n",
    "grasp_sampler_args = utils.read_checkpoint_args(args.grasp_sampler_folder)\n",
    "grasp_sampler_args.is_train = False\n",
    "#print(grasp_sampler_args)\n",
    "grasp_evaluator_args = utils.read_checkpoint_args(args.grasp_evaluator_folder)\n",
    "grasp_evaluator_args.continue_train = True\n",
    "#print(grasp_evaluator_args)\n",
    "estimator = grasp_estimator.GraspEstimator(grasp_sampler_args, grasp_evaluator_args, args)"
   ]
  },
  {
   "cell_type": "code",
   "execution_count": 8,
   "metadata": {
    "scrolled": true
   },
   "outputs": [
    {
     "name": "stdout",
     "output_type": "stream",
     "text": [
      "loading the model from ./checkpoints/evaluator_pretrained/latest_net.pth\n",
      "loading the model from ./checkpoints/vae_pretrained/latest_net.pth\n"
     ]
    }
   ],
   "source": [
    "for npy_files in glob.glob(os.path.join(args.npy_folder, '*.npy')):\n",
    "    # Depending on your numpy version you may need to change allow_pickle\n",
    "    # from True to False\n",
    "\n",
    "    data = np.load(npy_file, allow_pickle=True, encoding='latin1').item()\n",
    "\n",
    "    depth = data['depth']\n",
    "    image = data['image']\n",
    "    K = data['intrinsics_matrix']\n",
    "    # Removing points that are farther than 1 meter or missing depth values\n",
    "    # depth[depth == 0 or depth > 1] = np.nan\n",
    "\n",
    "    np.nan_to_num(depth, copy=False)\n",
    "    mask = np.where(np.logical_or(depth==0, depth>1))\n",
    "    depth[mask] = np.nan\n",
    "    pc, selection = backproject(depth, K, return_finite_depth=True, return_selection=True)\n",
    "    pc_colors = image.copy()\n",
    "    pc_colors = np.reshape(pc_colors, [-1,3])\n",
    "    pc_colors = pc_colors[selection, :]\n",
    "\n",
    "    # Smoothed pc comes from averaging the depth for 10 frames and removing the pixels with jittery depth\n",
    "    object_pc = data['smoothed_object_pc']\n",
    "    generated_grasps, generated_scores = estimator.generate_and_refine_grasps(object_pc)\n",
    "    mlab.figure(bgcolor=(1,1,1))\n",
    "    draw_scene(pc, pc_color=pc_colors, grasps=generated_grasps, grasp_scores=generated_scores)\n",
    "    print('close the window to continue to next object ...')\n",
    "    mlab.show()\n",
    "        "
   ]
  },
  {
   "cell_type": "code",
   "execution_count": 11,
   "metadata": {},
   "outputs": [
    {
     "name": "stdout",
     "output_type": "stream",
     "text": [
      "(480, 640)\n",
      "(480, 640, 3)\n",
      "[[616.36529541   0.         310.25881958]\n",
      " [  0.         616.20294189 236.59980774]\n",
      " [  0.           0.           1.        ]]\n"
     ]
    }
   ],
   "source": [
    "data = np.load('demo/data/blue_mug.npy', allow_pickle=True, encoding='latin1').item()\n",
    "depth = data['depth']\n",
    "image = data['image']\n",
    "print(depth.shape)\n",
    "print(image.shape)\n",
    "K = data['intrinsics_matrix']\n",
    "print(K)\n",
    "\n",
    "np.nan_to_num(depth, copy=False)\n",
    "mask = np.where(np.logical_or(depth == 0, depth > 1))"
   ]
  },
  {
   "cell_type": "code",
   "execution_count": 12,
   "metadata": {},
   "outputs": [],
   "source": [
    "depth[mask] = np.nan\n",
    "pc, selection = backproject(depth, K, return_finite_depth=True, return_selection=True)\n",
    "pc_colors = image.copy()\n",
    "pc_colors = np.reshape(pc_colors, [-1,3])\n",
    "pc_colors = pc_colors[selection, :]"
   ]
  },
  {
   "cell_type": "code",
   "execution_count": 13,
   "metadata": {},
   "outputs": [],
   "source": [
    "object_pc = data['smoothed_object_pc']"
   ]
  },
  {
   "cell_type": "code",
   "execution_count": 14,
   "metadata": {},
   "outputs": [
    {
     "name": "stdout",
     "output_type": "stream",
     "text": [
      "choose_better_than_threshold threshold= 0.8\n"
     ]
    }
   ],
   "source": [
    "generated_grasps, generated_scores = estimator.generate_and_refine_grasps(object_pc)"
   ]
  },
  {
   "cell_type": "code",
   "execution_count": 18,
   "metadata": {},
   "outputs": [
    {
     "name": "stdout",
     "output_type": "stream",
     "text": [
      "[[-0.66426615  0.03239556 -0.74679382  0.10982121]\n",
      " [-0.49010772  0.73546612  0.46785042 -0.05234753]\n",
      " [ 0.56439783  0.67678661 -0.47266793  0.55081968]\n",
      " [ 0.          0.          0.          1.        ]]\n"
     ]
    }
   ],
   "source": [
    "print(generated_grasps[0])"
   ]
  },
  {
   "cell_type": "code",
   "execution_count": 37,
   "metadata": {},
   "outputs": [
    {
     "name": "stdout",
     "output_type": "stream",
     "text": [
      "[0.9405957460403442, 0.994360625743866, 0.8906962275505066, 0.9056081175804138, 0.8103220462799072, 0.8224443793296814, 0.8014820218086243, 0.8937219381332397, 0.8477743268013, 0.9333900809288025, 0.9266433119773865, 0.9471819400787354, 0.8828741908073425, 0.8290473818778992, 0.9028867483139038, 0.9067367315292358, 0.8130753636360168, 0.8888319730758667, 0.8559100031852722, 0.9273698329925537, 0.8253844976425171, 0.9181490540504456, 0.8258219957351685, 0.9201022386550903, 0.8364370465278625]\n"
     ]
    }
   ],
   "source": [
    "print(generated_scores)"
   ]
  },
  {
   "cell_type": "code",
   "execution_count": 20,
   "metadata": {},
   "outputs": [
    {
     "name": "stdout",
     "output_type": "stream",
     "text": [
      "-0.13503302203500767\n"
     ]
    }
   ],
   "source": [
    "from scipy.spatial.transform import Rotation as R\n",
    "rotation_matrix = [[generated_grasps[0][0,0], generated_grasps[0][0,1], generated_grasps[0][0,2]],\n",
    "                   [generated_grasps[0][1,0], generated_grasps[0][1,1], generated_grasps[0][1,2]],\n",
    "                   [generated_grasps[0][2,0], generated_grasps[0][2,1], generated_grasps[0][2,2]]]\n",
    "r = R.from_matrix(rotation_matrix)\n",
    "quat = r.as_quat()\n",
    "print(quat[0])"
   ]
  },
  {
   "cell_type": "code",
   "execution_count": null,
   "metadata": {},
   "outputs": [],
   "source": []
  },
  {
   "cell_type": "code",
   "execution_count": null,
   "metadata": {},
   "outputs": [],
   "source": []
  },
  {
   "cell_type": "code",
   "execution_count": null,
   "metadata": {},
   "outputs": [],
   "source": []
  },
  {
   "cell_type": "code",
   "execution_count": null,
   "metadata": {},
   "outputs": [],
   "source": []
  },
  {
   "cell_type": "code",
   "execution_count": null,
   "metadata": {},
   "outputs": [],
   "source": []
  },
  {
   "cell_type": "code",
   "execution_count": null,
   "metadata": {},
   "outputs": [],
   "source": []
  },
  {
   "cell_type": "code",
   "execution_count": null,
   "metadata": {},
   "outputs": [],
   "source": []
  },
  {
   "cell_type": "code",
   "execution_count": null,
   "metadata": {},
   "outputs": [],
   "source": []
  },
  {
   "cell_type": "code",
   "execution_count": null,
   "metadata": {},
   "outputs": [],
   "source": []
  },
  {
   "cell_type": "code",
   "execution_count": null,
   "metadata": {},
   "outputs": [],
   "source": []
  },
  {
   "cell_type": "code",
   "execution_count": null,
   "metadata": {},
   "outputs": [],
   "source": []
  },
  {
   "cell_type": "code",
   "execution_count": null,
   "metadata": {},
   "outputs": [],
   "source": []
  },
  {
   "cell_type": "code",
   "execution_count": null,
   "metadata": {},
   "outputs": [],
   "source": []
  },
  {
   "cell_type": "code",
   "execution_count": null,
   "metadata": {},
   "outputs": [],
   "source": []
  },
  {
   "cell_type": "code",
   "execution_count": null,
   "metadata": {},
   "outputs": [],
   "source": []
  },
  {
   "cell_type": "code",
   "execution_count": null,
   "metadata": {},
   "outputs": [],
   "source": []
  },
  {
   "cell_type": "code",
   "execution_count": null,
   "metadata": {},
   "outputs": [],
   "source": []
  },
  {
   "cell_type": "code",
   "execution_count": null,
   "metadata": {},
   "outputs": [],
   "source": []
  },
  {
   "cell_type": "code",
   "execution_count": null,
   "metadata": {},
   "outputs": [],
   "source": []
  },
  {
   "cell_type": "code",
   "execution_count": null,
   "metadata": {},
   "outputs": [],
   "source": []
  },
  {
   "cell_type": "code",
   "execution_count": null,
   "metadata": {},
   "outputs": [],
   "source": []
  }
 ],
 "metadata": {
  "kernelspec": {
   "display_name": "Python 3",
   "language": "python",
   "name": "python3"
  },
  "language_info": {
   "codemirror_mode": {
    "name": "ipython",
    "version": 3
   },
   "file_extension": ".py",
   "mimetype": "text/x-python",
   "name": "python",
   "nbconvert_exporter": "python",
   "pygments_lexer": "ipython3",
   "version": "3.6.9"
  }
 },
 "nbformat": 4,
 "nbformat_minor": 4
}
