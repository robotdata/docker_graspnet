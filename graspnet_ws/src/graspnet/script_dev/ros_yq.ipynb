{
 "cells": [
  {
   "cell_type": "code",
   "execution_count": 1,
   "metadata": {},
   "outputs": [],
   "source": [
    "import rospy\n",
    "from geometry_msgs.msg import Pose\n",
    "from sensor_msgs.msg import PointCloud2"
   ]
  },
  {
   "cell_type": "code",
   "execution_count": 2,
   "metadata": {},
   "outputs": [
    {
     "name": "stdout",
     "output_type": "stream",
     "text": [
      "['requirements.txt', 'README.md', '__pycache__', 'uniform_quaternions', 'demo', 'TRAINED_MODEL_LICENSE', 'shapenet_ids.txt', 'checkpoints', 'options', '.ipynb_checkpoints', 'eval.py', 'models', 'grasp_estimator.py', 'gripper_control_points', 'train.py', '.git', 'test.py', '.gitattributes', 'utils', 'gripper_models', 'renderer', 'data', 'LICENSE']\n"
     ]
    }
   ],
   "source": [
    "import os\n",
    "import sys\n",
    "os.chdir(\"/graspnet_ws/src/graspnet/pytorch_6dof-graspnet\")\n",
    "print(os.listdir())\n",
    "sys.path.append(\"/graspnet_ws/src/graspnet/pytorch_6dof-graspnet\")"
   ]
  },
  {
   "cell_type": "code",
   "execution_count": 3,
   "metadata": {},
   "outputs": [
    {
     "name": "stderr",
     "output_type": "stream",
     "text": [
      "/usr/local/lib/python3.6/dist-packages/traits/etsconfig/etsconfig.py:425: UserWarning: Environment variable \"HOME\" not set, setting home directory to /tmp\n",
      "  % (environment_variable, parent_directory)\n"
     ]
    }
   ],
   "source": [
    "import numpy as np\n",
    "from scipy.spatial.transform import Rotation as R\n",
    "import argparse\n",
    "import glob\n",
    "import mayavi.mlab as mlab"
   ]
  },
  {
   "cell_type": "code",
   "execution_count": 4,
   "metadata": {},
   "outputs": [],
   "source": [
    "import grasp_estimator\n",
    "from utils.visualization_utils import *\n",
    "from utils import utils\n",
    "from data import DataLoader"
   ]
  },
  {
   "cell_type": "code",
   "execution_count": 5,
   "metadata": {},
   "outputs": [],
   "source": [
    "# parameters\n",
    "object_pc = None # Pointcloud of the object to be grasped\n",
    "grasp_pose = Pose()"
   ]
  },
  {
   "cell_type": "code",
   "execution_count": 6,
   "metadata": {},
   "outputs": [],
   "source": [
    "# parameters\n",
    "class Args(object):\n",
    "    def __init__(self):\n",
    "        pass\n",
    "\n",
    "args = Args()\n",
    "# args.grasp_sampler_folder = 'checkpoints/gan_pretrained/'\n",
    "args.grasp_sampler_folder = 'checkpoints/vae_pretrained'\n",
    "args.grasp_evaluator_folder = 'checkpoints/evaluator_pretrained/'\n",
    "# args.refinement_method = 'sampling'\n",
    "args.refinement_method = 'gradient'\n",
    "args.refine_steps = 10\n",
    "args.npy_folder = 'demo/data/'\n",
    "args.threshold = 0.8\n",
    "args.choose_fn = 'better_than_threshold'\n",
    "args.target_pc_size = 1024\n",
    "args.num_grasp_samples = 10\n",
    "args.generate_dense_grasps = False\n",
    "args.batch_size = 30\n",
    "args.train_data = False\n",
    "if args.train_data:\n",
    "    args.dataset_root_folder = ''"
   ]
  },
  {
   "cell_type": "code",
   "execution_count": 7,
   "metadata": {},
   "outputs": [
    {
     "name": "stdout",
     "output_type": "stream",
     "text": [
      "loading the model from ./checkpoints/evaluator_pretrained/latest_net.pth\n",
      "loading the model from ./checkpoints/vae_pretrained/latest_net.pth\n"
     ]
    }
   ],
   "source": [
    "# processing\n",
    "grasp_sampler_args = utils.read_checkpoint_args(args.grasp_sampler_folder)\n",
    "grasp_sampler_args.is_train = False\n",
    "#print(grasp_sampler_args)\n",
    "grasp_evaluator_args = utils.read_checkpoint_args(args.grasp_evaluator_folder)\n",
    "grasp_evaluator_args.continue_train = True\n",
    "#print(grasp_evaluator_args)\n",
    "estimator = grasp_estimator.GraspEstimator(grasp_sampler_args, grasp_evaluator_args, args)"
   ]
  },
  {
   "cell_type": "code",
   "execution_count": 8,
   "metadata": {},
   "outputs": [],
   "source": [
    "def callback(msg):\n",
    "    object_pc = ros_numpy.numpify(msg)\n",
    "    generated_grasps, generated_scores = estimator.generate_and_refine_grasps(object_pc) # two lists\n",
    "    if len(generated_grasps) > 0:\n",
    "        grasp_pose.position.x = generated_grasps[0][0,3]\n",
    "        grasp_pose.position.y = generated_grasps[0][1,3]\n",
    "        grasp_pose.position.z = generated_grasps[0][2,3]\n",
    "        rotation_matrix = [[generated_grasps[0][0,0], generated_grasps[0][0,1], generated_grasps[0][0,2]],\n",
    "                           [generated_grasps[0][1,0], generated_grasps[0][1,1], generated_grasps[0][1,2]],\n",
    "                           [generated_grasps[0][2,0], generated_grasps[0][2,1], generated_grasps[0][2,2]]]\n",
    "        r = R.from_matrix(rotation_matrix)\n",
    "        quat = r.as_quat()\n",
    "        grasp_pose.prientation.x = quat[0]\n",
    "        grasp_pose.prientation.y = quat[1]\n",
    "        grasp_pose.prientation.z = quat[2]\n",
    "        grasp_pose.prientation.w = quat[3]\n",
    "        pub.publish(grasp_pose)"
   ]
  },
  {
   "cell_type": "code",
   "execution_count": null,
   "metadata": {},
   "outputs": [],
   "source": [
    "if __name__ == '__main__':\n",
    "    rospy.init_node('grasp_generator', anonymous=True)\n",
    "    pub = rospy.Publisher('generated_grasp_pose', Pose, queue_size=1)\n",
    "    rospy.Subscriber('object_pc', PointCloud2, callback)\n",
    "    while not rospy.is_shutdown():\n",
    "        rospy.sleep(2.)\n",
    "    "
   ]
  }
 ],
 "metadata": {
  "kernelspec": {
   "display_name": "Python 3",
   "language": "python",
   "name": "python3"
  },
  "language_info": {
   "codemirror_mode": {
    "name": "ipython",
    "version": 3
   },
   "file_extension": ".py",
   "mimetype": "text/x-python",
   "name": "python",
   "nbconvert_exporter": "python",
   "pygments_lexer": "ipython3",
   "version": "3.6.9"
  }
 },
 "nbformat": 4,
 "nbformat_minor": 4
}
